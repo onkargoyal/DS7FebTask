{
 "cells": [
  {
   "cell_type": "code",
   "execution_count": 4,
   "metadata": {},
   "outputs": [
    {
     "data": {
      "text/plain": [
       "'Valid Password'"
      ]
     },
     "execution_count": 4,
     "metadata": {},
     "output_type": "execute_result"
    }
   ],
   "source": [
    "#1 PASSWORD VALIDITY:-\n",
    "def ifValidPassword(password):\n",
    "    lowerAlphabetsString = \"abcdefghijklmnopqrstuvwxyz\"\n",
    "    upperAlphabetsString=\"ABCDEFGHIJKLMNOPQRSTUVWXYZ\"\n",
    "    specialCharactersString=\"!@#$%^&*()_+-=\"\n",
    "    numbersString=\"1234567890\"\n",
    "    upperCaseCounter=0\n",
    "    lowerCaseCounter=0\n",
    "    specialCharacterCounter=0\n",
    "    numberCounter=0\n",
    "    for character in password:\n",
    "        for upperAlphabet in upperAlphabetsString:\n",
    "            if character==upperAlphabet:\n",
    "                upperCaseCounter=upperCaseCounter+1\n",
    "\n",
    "        for lowerAlphabet in lowerAlphabetsString:\n",
    "            if character==lowerAlphabet:\n",
    "                lowerCaseCounter=lowerCaseCounter+1\n",
    "\n",
    "        for specialCharacter in specialCharactersString:\n",
    "            if character==specialCharacter:\n",
    "                specialCharacterCounter=specialCharacterCounter+1\n",
    "\n",
    "        for number in numbersString:\n",
    "            if character==number:\n",
    "                numberCounter=numberCounter+1\n",
    "\n",
    "    if upperCaseCounter>=2 and lowerCaseCounter>=2 and numberCounter>=1 and specialCharacterCounter>=3 and len(password)>=10:\n",
    "        return(\"Valid Password\")\n",
    "    else:\n",
    "        return(\"Invalid password\")\n",
    "\n",
    "ifValidPassword(\"45tgGGG###\")"
   ]
  },
  {
   "cell_type": "code",
   "execution_count": 28,
   "metadata": {},
   "outputs": [
    {
     "name": "stdout",
     "output_type": "stream",
     "text": [
      "[1, 4, 9, 16, 25, 36, 49, 64, 81, 100, 121, 144, 169, 196, 225, 256, 289, 324, 361, 400, 441, 484, 529, 576, 625, 676, 729, 784, 841, 900, 961, 1024, 1089, 1156, 1225, 1296, 1369, 1444, 1521, 1600, 1681, 1764, 1849, 1936, 2025, 2116, 2209, 2304, 2401, 2500, 2601, 2704, 2809, 2916, 3025, 3136, 3249, 3364, 3481, 3600, 3721, 3844, 3969, 4096, 4225, 4356, 4489, 4624, 4761, 4900, 5041, 5184, 5329, 5476, 5625, 5776, 5929, 6084, 6241, 6400, 6561, 6724, 6889, 7056, 7225, 7396, 7569, 7744, 7921, 8100, 8281, 8464, 8649, 8836, 9025, 9216, 9409, 9604, 9801]\n",
      "[0.3333333333333333, 0.6666666666666666, 1.0, 1.3333333333333333, 1.6666666666666667, 2.0, 2.3333333333333335, 2.6666666666666665, 3.0]\n",
      "[1, 3, 5, 7, 9]\n",
      "[1, 2, 3, 4, 5, 6]\n",
      "[-1, -2, -3, -4, -5]\n"
     ]
    }
   ],
   "source": [
    "#2\n",
    "#CHECK IF STRING STARTS WITH A PARTICULAR CHARACTER\n",
    "#With Lambda:-\n",
    "ifStartWithCharacter = lambda str, character: 'YES' if str.lower()[0]==character else 'NO'\n",
    "ifStartWithCharacter(\"tyu\" ,'g')\n",
    "\n",
    "#CHECK IF THE STRING IS NUMERIC:\n",
    "ifStringIsNumeric = lambda str: ['YES IT IS NUMERIC' if type(char)==int else 'NO ' for char in str]\n",
    "\n",
    "ifStringIsNumeric(\"456754\")\n",
    "\n",
    "#SORTING FRUITS ACC TO THEIR QUANTITIES:\n",
    "def sortFruits(listOfFruits):\n",
    "    return sorted(listOfFruits, key=lambda x:x[1])\n",
    "\n",
    "sortFruits([(\"mango\",99),(\"orange\",80), (\"grapes\", 1000)])\n",
    "\n",
    "\n",
    "#SQUARES FROM 1 TO 100\n",
    "\n",
    "squaresOfList = list(map(lambda element: element**2 ,range(1,100)))\n",
    "print(squaresOfList)\n",
    "\n",
    "\n",
    "\n",
    "#CUBE ROOTS OF NOS\n",
    "cubeRootsOfList= list(map(lambda element: element**1/3, range(1,10)))\n",
    "print(cubeRootsOfList)\n",
    "\n",
    "\n",
    "#CHECK IF GIVEN NO IS EVEN OR NOT:\n",
    "checkEven = lambda a: 'YES' if a%2==0 else 'NO'\n",
    "checkEven(3)\n",
    "\n",
    "#FILTER OUT ODD NOS FROM THE LIST:-\n",
    "numList=[1,2,3,4,5,6,7,8,9,10]\n",
    "oddNos  =list(filter(lambda a:a%2!=0, numList))\n",
    "print(oddNos)\n",
    "\n",
    "#SORT A LIST INTO POSITIVE AND NEGATIVE INTEGER LISTS:-\n",
    "allNumList=[1,2,3,4,5,6,-1,-2,-3,-4,-5,0]\n",
    "positiveNumList = sorted(list(filter(lambda a:a>0, allNumList)))\n",
    "print((positiveNumList))\n",
    "negativeNumList = sorted(filter(lambda a:a<0, allNumList), reverse=True)\n",
    "\n",
    "print(negativeNumList)"
   ]
  },
  {
   "cell_type": "code",
   "execution_count": null,
   "metadata": {},
   "outputs": [],
   "source": []
  }
 ],
 "metadata": {
  "kernelspec": {
   "display_name": "Python 3",
   "language": "python",
   "name": "python3"
  },
  "language_info": {
   "codemirror_mode": {
    "name": "ipython",
    "version": 3
   },
   "file_extension": ".py",
   "mimetype": "text/x-python",
   "name": "python",
   "nbconvert_exporter": "python",
   "pygments_lexer": "ipython3",
   "version": "3.11.1"
  },
  "orig_nbformat": 4,
  "vscode": {
   "interpreter": {
    "hash": "5238573367df39f7286bb46f9ff5f08f63a01a80960060ce41e3c79b190280fa"
   }
  }
 },
 "nbformat": 4,
 "nbformat_minor": 2
}
